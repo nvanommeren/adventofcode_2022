{
 "cells": [
  {
   "cell_type": "code",
   "execution_count": 39,
   "id": "29421fc3-b880-4b55-ae5a-f4c9d278f4ad",
   "metadata": {},
   "outputs": [],
   "source": [
    "def parse_file(filename: str):\n",
    "    for line in open(filename, 'r').readlines():\n",
    "        yield line.strip().split(' ')"
   ]
  },
  {
   "cell_type": "code",
   "execution_count": 44,
   "id": "48845ea6-8497-4eca-95e9-8be9a3c63d2c",
   "metadata": {},
   "outputs": [
    {
     "data": {
      "text/plain": [
       "11841"
      ]
     },
     "execution_count": 44,
     "metadata": {},
     "output_type": "execute_result"
    }
   ],
   "source": [
    "win_dict = {\n",
    "    0: 2,\n",
    "    1: 0,\n",
    "    2: 1,\n",
    "}\n",
    "\n",
    "def determine_score(opponent, you):\n",
    "    opponent_id = ['A', 'B', 'C'].index(opponent)\n",
    "    you_id = ['X', 'Y', 'Z'].index(you)\n",
    "    return (win_dict[you_id] == opponent_id) * 6 + (opponent_id == you_id) * 3 + (you_id + 1) \n",
    "\n",
    "sum([\n",
    "    determine_score(opponent, result)\n",
    "    for (opponent, result)\n",
    "    in parse_file('day2.txt')\n",
    "])"
   ]
  },
  {
   "cell_type": "markdown",
   "id": "8a51f373-ad73-4ce4-bb5d-bcaebabb37c0",
   "metadata": {},
   "source": [
    "# Part 2"
   ]
  },
  {
   "cell_type": "code",
   "execution_count": 45,
   "id": "91c4655d-a84d-42e9-a681-144bae5f8961",
   "metadata": {},
   "outputs": [
    {
     "data": {
      "text/plain": [
       "13022"
      ]
     },
     "execution_count": 45,
     "metadata": {},
     "output_type": "execute_result"
    }
   ],
   "source": [
    "def determine_action(opponent, result):\n",
    "    if result == 0:\n",
    "        return win_dict[opponent]\n",
    "    if result == 1:\n",
    "        return opponent\n",
    "    if result == 2:\n",
    "        return 3 - opponent - win_dict[opponent]\n",
    "\n",
    "def determine_score(opponent, result):\n",
    "    opponent_id = ['A', 'B', 'C'].index(opponent)\n",
    "    result_id = ['X', 'Y', 'Z'].index(result)\n",
    "    return (determine_action(opponent_id, result_id) + 1) + result_id * 3\n",
    "\n",
    "sum([\n",
    "    determine_score(opponent, result)\n",
    "    for (opponent, result)\n",
    "    in parse_file('day2.txt')\n",
    "])"
   ]
  }
 ],
 "metadata": {
  "kernelspec": {
   "display_name": "Python 3 (ipykernel)",
   "language": "python",
   "name": "python3"
  },
  "language_info": {
   "codemirror_mode": {
    "name": "ipython",
    "version": 3
   },
   "file_extension": ".py",
   "mimetype": "text/x-python",
   "name": "python",
   "nbconvert_exporter": "python",
   "pygments_lexer": "ipython3",
   "version": "3.10.5"
  }
 },
 "nbformat": 4,
 "nbformat_minor": 5
}
