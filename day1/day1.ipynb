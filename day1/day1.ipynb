{
 "cells": [
  {
   "cell_type": "markdown",
   "id": "e34783b5-27c5-49d7-9d33-436bd6048b14",
   "metadata": {},
   "source": [
    "# Part 1"
   ]
  },
  {
   "cell_type": "code",
   "execution_count": 1,
   "id": "463560af-9859-4436-8d37-dd1f82ee8620",
   "metadata": {},
   "outputs": [
    {
     "data": {
      "text/plain": [
       "68442"
      ]
     },
     "execution_count": 1,
     "metadata": {},
     "output_type": "execute_result"
    }
   ],
   "source": [
    "calory_list = [0]\n",
    "\n",
    "for line in open(\"day1.txt\", 'r').readlines():\n",
    "\n",
    "    if line == '\\n':\n",
    "        calory_list.append(0)\n",
    "    else:       \n",
    "        calory_list[-1] += int(line.strip())\n",
    "\n",
    "max(calory_list)"
   ]
  },
  {
   "cell_type": "markdown",
   "id": "5524641c-66a1-4571-98e3-432884815458",
   "metadata": {},
   "source": [
    "# Part 2"
   ]
  },
  {
   "cell_type": "code",
   "execution_count": 2,
   "id": "638f161e-7ef9-4138-aeeb-98636090b619",
   "metadata": {},
   "outputs": [
    {
     "data": {
      "text/plain": [
       "204837"
      ]
     },
     "execution_count": 2,
     "metadata": {},
     "output_type": "execute_result"
    }
   ],
   "source": [
    "sum(sorted(calory_list)[-3:])"
   ]
  }
 ],
 "metadata": {
  "kernelspec": {
   "display_name": "Python 3 (ipykernel)",
   "language": "python",
   "name": "python3"
  },
  "language_info": {
   "codemirror_mode": {
    "name": "ipython",
    "version": 3
   },
   "file_extension": ".py",
   "mimetype": "text/x-python",
   "name": "python",
   "nbconvert_exporter": "python",
   "pygments_lexer": "ipython3",
   "version": "3.10.5"
  }
 },
 "nbformat": 4,
 "nbformat_minor": 5
}
