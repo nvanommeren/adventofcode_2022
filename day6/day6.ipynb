{
 "cells": [
  {
   "cell_type": "markdown",
   "id": "7fcd9caf-f47e-4353-b201-a208a51303e1",
   "metadata": {},
   "source": [
    "# Part 1"
   ]
  },
  {
   "cell_type": "code",
   "execution_count": 15,
   "id": "8e1ff4b3-6af6-44f6-82ca-2065cbea36bc",
   "metadata": {},
   "outputs": [
    {
     "data": {
      "text/plain": [
       "1198"
      ]
     },
     "execution_count": 15,
     "metadata": {},
     "output_type": "execute_result"
    }
   ],
   "source": [
    "def get_first_input(n: int, filename: str):\n",
    "    inp = open(filename, 'r').read()\n",
    "\n",
    "    return min([\n",
    "        i+n\n",
    "        for i \n",
    "        in range(len(inp))\n",
    "        if len(set(inp[i:i+n])) == n\n",
    "    ])\n",
    "\n",
    "get_first_input(4, 'day6.txt')"
   ]
  },
  {
   "cell_type": "markdown",
   "id": "07c2a81c-f661-496c-9365-fa325ac017f2",
   "metadata": {},
   "source": [
    "# Part 2"
   ]
  },
  {
   "cell_type": "code",
   "execution_count": 16,
   "id": "81e4830d-e9ae-4ebb-b7b3-7b95ffdf9644",
   "metadata": {},
   "outputs": [
    {
     "data": {
      "text/plain": [
       "3120"
      ]
     },
     "execution_count": 16,
     "metadata": {},
     "output_type": "execute_result"
    }
   ],
   "source": [
    "get_first_input(14, 'day6.txt')"
   ]
  }
 ],
 "metadata": {
  "kernelspec": {
   "display_name": "Python 3 (ipykernel)",
   "language": "python",
   "name": "python3"
  },
  "language_info": {
   "codemirror_mode": {
    "name": "ipython",
    "version": 3
   },
   "file_extension": ".py",
   "mimetype": "text/x-python",
   "name": "python",
   "nbconvert_exporter": "python",
   "pygments_lexer": "ipython3",
   "version": "3.10.5"
  }
 },
 "nbformat": 4,
 "nbformat_minor": 5
}
