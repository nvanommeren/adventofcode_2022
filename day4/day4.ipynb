{
 "cells": [
  {
   "cell_type": "markdown",
   "id": "34920dd9-aff8-43d2-8689-3cf6ba35379e",
   "metadata": {},
   "source": [
    "# Part 1"
   ]
  },
  {
   "cell_type": "code",
   "execution_count": 87,
   "id": "0f61fdd5-f010-47fc-825a-365f5f452f31",
   "metadata": {},
   "outputs": [
    {
     "data": {
      "text/plain": [
       "573"
      ]
     },
     "execution_count": 87,
     "metadata": {},
     "output_type": "execute_result"
    }
   ],
   "source": [
    "from typing import Callable\n",
    "\n",
    "def parse_range(r: str):\n",
    "    start, stop= r.split('-')\n",
    "    return range(int(start), int(stop) + 1)\n",
    "\n",
    "def parse_ranges(ranges: str):\n",
    "    return [parse_range(r) for r in ranges.split(',')]\n",
    "\n",
    "def parse_file(filename: str, f: Callable):\n",
    "        \n",
    "    for line in open(filename, 'r').readlines():\n",
    "        yield f(line.strip())\n",
    "        \n",
    "sum([\n",
    "    (set(a) - set(b) == set()) | (set(b) - set(a) == set())\n",
    "    for a, b in \n",
    "    parse_file('day4.txt', parse_ranges)\n",
    "])"
   ]
  },
  {
   "cell_type": "markdown",
   "id": "00da252a-3596-4495-9497-d1629b565c6d",
   "metadata": {},
   "source": [
    "# Part 2"
   ]
  },
  {
   "cell_type": "code",
   "execution_count": 89,
   "id": "ba590534-1c2d-49a6-a8ed-5ce8b11f5546",
   "metadata": {},
   "outputs": [
    {
     "data": {
      "text/plain": [
       "867"
      ]
     },
     "execution_count": 89,
     "metadata": {},
     "output_type": "execute_result"
    }
   ],
   "source": [
    "sum([\n",
    "    set(a) & set(b) != set()\n",
    "    for a, b in \n",
    "    parse_file('day4.txt', parse_ranges)\n",
    "])"
   ]
  },
  {
   "cell_type": "code",
   "execution_count": null,
   "id": "8476c4e7-ed96-47ee-bf62-6abab975f106",
   "metadata": {},
   "outputs": [],
   "source": []
  }
 ],
 "metadata": {
  "kernelspec": {
   "display_name": "Python 3 (ipykernel)",
   "language": "python",
   "name": "python3"
  },
  "language_info": {
   "codemirror_mode": {
    "name": "ipython",
    "version": 3
   },
   "file_extension": ".py",
   "mimetype": "text/x-python",
   "name": "python",
   "nbconvert_exporter": "python",
   "pygments_lexer": "ipython3",
   "version": "3.10.5"
  }
 },
 "nbformat": 4,
 "nbformat_minor": 5
}
