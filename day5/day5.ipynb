{
 "cells": [
  {
   "cell_type": "markdown",
   "id": "85922279-0f56-487e-b919-c79442a0ebe4",
   "metadata": {},
   "source": [
    "# Part 1"
   ]
  },
  {
   "cell_type": "code",
   "execution_count": 9,
   "id": "f0215252-f094-4869-935a-3593ca5bb1b3",
   "metadata": {},
   "outputs": [
    {
     "data": {
      "text/plain": [
       "'TPGVQPFDH'"
      ]
     },
     "execution_count": 9,
     "metadata": {},
     "output_type": "execute_result"
    }
   ],
   "source": [
    "import re\n",
    "import numpy as np\n",
    "\n",
    "def parse_file(filename: str):\n",
    "\n",
    "    n_stacks = max([line.count('[') for line in open(filename, 'r').readlines()])\n",
    "\n",
    "    stacks = np.array([\n",
    "        np.array([line[i] for i in range(1, 4*n_stacks, 4)])\n",
    "        for line in open(filename, 'r').readlines()\n",
    "        if '[' in line\n",
    "    ]).T\n",
    "\n",
    "    stacks = [list(s[np.where(s != ' ')])[::-1] for s in stacks]\n",
    "\n",
    "    instructions = [\n",
    "        map(int, re.findall(\"\\d+\", line))\n",
    "        for line in open(filename, 'r').readlines()\n",
    "        if 'move' in line\n",
    "    ]\n",
    "    return stacks, instructions\n",
    "\n",
    "stacks, instructions = parse_file('day5.txt')\n",
    "\n",
    "for n, frm, to in instructions:\n",
    "    for i in range(n):\n",
    "        stacks[to-1].append(stacks[frm-1].pop())\n",
    "    \n",
    "\"\".join([s[-1] for s in stacks])"
   ]
  },
  {
   "cell_type": "markdown",
   "id": "81f2458b-5791-47fa-8322-b42364505989",
   "metadata": {},
   "source": [
    "# Part 2"
   ]
  },
  {
   "cell_type": "code",
   "execution_count": 10,
   "id": "7a72f244-f7b0-4057-ac0c-2a57395a7aca",
   "metadata": {},
   "outputs": [
    {
     "data": {
      "text/plain": [
       "'DMRDFRHHH'"
      ]
     },
     "execution_count": 10,
     "metadata": {},
     "output_type": "execute_result"
    }
   ],
   "source": [
    "stacks, instructions = parse_file('day5.txt')\n",
    "\n",
    "for n, frm, to in instructions:\n",
    "    stacks[to-1] += stacks[frm-1][-n:]\n",
    "    stacks[frm-1] = stacks[frm-1][:-n]\n",
    "    \n",
    "\"\".join([s[-1] for s in stacks])"
   ]
  }
 ],
 "metadata": {
  "kernelspec": {
   "display_name": "Python 3 (ipykernel)",
   "language": "python",
   "name": "python3"
  },
  "language_info": {
   "codemirror_mode": {
    "name": "ipython",
    "version": 3
   },
   "file_extension": ".py",
   "mimetype": "text/x-python",
   "name": "python",
   "nbconvert_exporter": "python",
   "pygments_lexer": "ipython3",
   "version": "3.10.5"
  }
 },
 "nbformat": 4,
 "nbformat_minor": 5
}
