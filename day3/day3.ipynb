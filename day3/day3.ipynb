{
 "cells": [
  {
   "cell_type": "markdown",
   "id": "0bddea82-9866-4491-881f-ab6f37dddc83",
   "metadata": {},
   "source": [
    "# Part 1"
   ]
  },
  {
   "cell_type": "code",
   "execution_count": 76,
   "id": "27b55d88-c620-41c6-8164-681df1abf35a",
   "metadata": {},
   "outputs": [],
   "source": [
    "from typing import Callable\n",
    "\n",
    "def get_pockets(line: str):\n",
    "    \n",
    "    half_n = int(len(line)/2)\n",
    "    return line[:half_n], line[half_n:].strip()\n",
    "\n",
    "def parse_file(filename: str, f: Callable):\n",
    "        \n",
    "    for line in open(filename, 'r').readlines():\n",
    "        yield f(line.strip())"
   ]
  },
  {
   "cell_type": "code",
   "execution_count": 27,
   "id": "4d291756-0af0-41e8-bbf8-da5c93af957b",
   "metadata": {},
   "outputs": [],
   "source": [
    "def get_value(ch: str):\n",
    "    if ch.islower():\n",
    "        return ord(ch) - ord('a') + 1\n",
    "    return ord(ch) - ord('A') + 27"
   ]
  },
  {
   "cell_type": "code",
   "execution_count": 77,
   "id": "04d4b3ac-881d-487d-be85-79daa48b5d70",
   "metadata": {},
   "outputs": [
    {
     "data": {
      "text/plain": [
       "8349"
      ]
     },
     "execution_count": 77,
     "metadata": {},
     "output_type": "execute_result"
    }
   ],
   "source": [
    "sum([\n",
    "    get_value((set(c1) & set(c2)).pop())\n",
    "    for c1, c2 \n",
    "    in parse_file('day3.txt', get_pockets)\n",
    "])"
   ]
  },
  {
   "cell_type": "markdown",
   "id": "42d8fd8e-6699-484d-8dfa-6c1a3a616fbf",
   "metadata": {
    "tags": []
   },
   "source": [
    "# Part 2"
   ]
  },
  {
   "cell_type": "code",
   "execution_count": 78,
   "id": "b5509695-4018-471e-bcdf-f23aa7cd6901",
   "metadata": {},
   "outputs": [],
   "source": [
    "\n",
    "def parse_file(filename: str):\n",
    "    \n",
    "    lines = []\n",
    "    \n",
    "    for line in open(filename, 'r').readlines():\n",
    "        lines.append(line.strip())\n",
    "        if len(lines) == 3:\n",
    "            yield lines\n",
    "            lines=[]"
   ]
  },
  {
   "cell_type": "code",
   "execution_count": 79,
   "id": "65c81b4b-7880-4970-bf20-8f9d2432baba",
   "metadata": {},
   "outputs": [
    {
     "data": {
      "text/plain": [
       "2681"
      ]
     },
     "execution_count": 79,
     "metadata": {},
     "output_type": "execute_result"
    }
   ],
   "source": [
    "sum([\n",
    "    get_value((set(c1) & set(c2) & set(c3)).pop())\n",
    "    for c1, c2, c3\n",
    "    in parse_file('day3.txt')\n",
    "])"
   ]
  }
 ],
 "metadata": {
  "kernelspec": {
   "display_name": "Python 3 (ipykernel)",
   "language": "python",
   "name": "python3"
  },
  "language_info": {
   "codemirror_mode": {
    "name": "ipython",
    "version": 3
   },
   "file_extension": ".py",
   "mimetype": "text/x-python",
   "name": "python",
   "nbconvert_exporter": "python",
   "pygments_lexer": "ipython3",
   "version": "3.10.5"
  }
 },
 "nbformat": 4,
 "nbformat_minor": 5
}
