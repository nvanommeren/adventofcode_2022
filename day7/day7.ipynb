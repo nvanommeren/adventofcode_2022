{
 "cells": [
  {
   "cell_type": "code",
   "execution_count": 63,
   "id": "400cf11b-3234-42e8-9b52-661e833fbf74",
   "metadata": {},
   "outputs": [],
   "source": [
    "inp = open('day7.txt', 'r').read()"
   ]
  },
  {
   "cell_type": "code",
   "execution_count": 64,
   "id": "f2d20cb1-0555-4185-9b32-30c70b4f92f9",
   "metadata": {},
   "outputs": [
    {
     "data": {
      "text/plain": [
       "1447046"
      ]
     },
     "execution_count": 64,
     "metadata": {},
     "output_type": "execute_result"
    }
   ],
   "source": [
    "import itertools\n",
    "from collections.abc import Iterable\n",
    "\n",
    "class Node:\n",
    "    \n",
    "    def __init__(self, name, parent):\n",
    "        self.name: str = name\n",
    "        self.children: dict = {}\n",
    "        self.sum: int = 0\n",
    "        self.parent = parent\n",
    "    \n",
    "    def get_sum(self):\n",
    "        \n",
    "        return self.sum + sum([child.get_sum() for child in self.children.values()])\n",
    "\n",
    "\n",
    "start_node = Node(name='/', parent=None)\n",
    "\n",
    "for i in inp.strip().split('\\n'):\n",
    "    if '$ cd /' in i:\n",
    "        current = start_node\n",
    "    elif '$ cd ..' in i:\n",
    "        current = current.parent\n",
    "    elif '$ cd' in i:\n",
    "        current = current.children[i.replace('$ cd ', '')]\n",
    "    elif '$' not in i:\n",
    "        if 'dir' in i:\n",
    "            current.children[i.replace('dir ', '')] = Node(name=i.replace('dir ', ''), parent=current)\n",
    "        else:\n",
    "            current.sum += int(i.split(' ')[0])\n",
    "\n",
    "def sum_smaller(node, a=100_000):\n",
    "    return node.get_sum() if node.get_sum() < a else 0\n",
    "\n",
    "def traverse(node, func, s):\n",
    "    for child in node.children.values():\n",
    "        s.append(func(child))\n",
    "        traverse(child, func, s)\n",
    "    # if not node.chireturn 0\n",
    "\n",
    "s=[]\n",
    "traverse(start_node, sum_smaller, s)\n",
    "sum(s)"
   ]
  },
  {
   "cell_type": "markdown",
   "id": "71fa27fa-c2e0-4c0d-a930-065fe5364015",
   "metadata": {},
   "source": [
    "# Part 2"
   ]
  },
  {
   "cell_type": "code",
   "execution_count": 65,
   "id": "b36a3ee1-f986-47e3-a99a-0f5c5e42e4e8",
   "metadata": {},
   "outputs": [
    {
     "data": {
      "text/plain": [
       "578710"
      ]
     },
     "execution_count": 65,
     "metadata": {},
     "output_type": "execute_result"
    }
   ],
   "source": [
    "unused_space = 70000000 - start_node.get_sum()\n",
    "needed_space = 30000000 - unused_space\n",
    "needed_space\n",
    "\n",
    "def sum_larger(node, a=needed_space):\n",
    "    return node.get_sum() if node.get_sum() > a else None\n",
    "\n",
    "s=[]\n",
    "traverse(start_node, sum_larger, s)\n",
    "min([i for i in s if i is not None])"
   ]
  }
 ],
 "metadata": {
  "kernelspec": {
   "display_name": "Python 3 (ipykernel)",
   "language": "python",
   "name": "python3"
  },
  "language_info": {
   "codemirror_mode": {
    "name": "ipython",
    "version": 3
   },
   "file_extension": ".py",
   "mimetype": "text/x-python",
   "name": "python",
   "nbconvert_exporter": "python",
   "pygments_lexer": "ipython3",
   "version": "3.10.5"
  }
 },
 "nbformat": 4,
 "nbformat_minor": 5
}
